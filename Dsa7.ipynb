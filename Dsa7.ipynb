{
  "nbformat": 4,
  "nbformat_minor": 0,
  "metadata": {
    "colab": {
      "provenance": [],
      "authorship_tag": "ABX9TyNXMS2akZ7OnuCWAk4VvyLg",
      "include_colab_link": true
    },
    "kernelspec": {
      "name": "python3",
      "display_name": "Python 3"
    },
    "language_info": {
      "name": "python"
    }
  },
  "cells": [
    {
      "cell_type": "markdown",
      "metadata": {
        "id": "view-in-github",
        "colab_type": "text"
      },
      "source": [
        "<a href=\"https://colab.research.google.com/github/RakeshMishra26mgh/Dsa7/blob/main/Dsa7.ipynb\" target=\"_parent\"><img src=\"https://colab.research.google.com/assets/colab-badge.svg\" alt=\"Open In Colab\"/></a>"
      ]
    },
    {
      "cell_type": "markdown",
      "source": [
        "Answer 1:-"
      ],
      "metadata": {
        "id": "BChMxV6qu7Pb"
      }
    },
    {
      "cell_type": "code",
      "source": [
        "def is_isomorphic(s, t):\n",
        "  s_to_t = {}\n",
        "  t_to_s = {}\n",
        "  for i in range(len(s)):\n",
        "    char_s = s[i]\n",
        "    char_t = t[i]\n",
        "    if char_s in s_to_t and char_t in t_to_s:\n",
        "      if s_to_t[char_s] != char_t or t_to_s[char_t] != char_s:\n",
        "        return False\n",
        "    elif char_s in s_to_t or char_t in t_to_s:\n",
        "      return False\n",
        "    else:\n",
        "      s_to_t[char_s] = char_t\n",
        "      t_to_s[char_t] = char_s\n",
        "  return True\n",
        "\n",
        "s = input(\"Enter the first string: \")\n",
        "t = input(\"Enter the second string: \")\n",
        "print(is_isomorphic(s, t))\n"
      ],
      "metadata": {
        "id": "o0bGdzTru9pU"
      },
      "execution_count": null,
      "outputs": []
    },
    {
      "cell_type": "markdown",
      "source": [
        "Answer 2:-"
      ],
      "metadata": {
        "id": "FxxeHLFZwZO8"
      }
    },
    {
      "cell_type": "code",
      "source": [
        "def is_strobogrammatic(num):\n",
        "  strobos = {\"0\":\"0\", \"1\":\"1\", \"6\":\"9\", \"8\":\"8\", \"9\":\"6\"}\n",
        "  rotated = \"\"\n",
        "  for digit in num[::-1]:\n",
        "    if digit in strobos:\n",
        "      rotated += strobos[digit]\n",
        "    else:\n",
        "      return False\n",
        "  return rotated == num\n",
        "\n",
        "num = input(\"Enter a number: \")\n",
        "if num == \"\":\n",
        "  print(\"Invalid input: please enter a non-empty string.\")\n",
        "elif not num.isdigit():\n",
        "  print(\"Invalid input: please enter a numeric string.\")\n",
        "else:\n",
        "  print(is_strobogrammatic(num))\n"
      ],
      "metadata": {
        "id": "5Twr9_vnwbVr"
      },
      "execution_count": null,
      "outputs": []
    },
    {
      "cell_type": "markdown",
      "source": [
        "Answer 3:-"
      ],
      "metadata": {
        "id": "Jxxg5yIZxwHb"
      }
    },
    {
      "cell_type": "code",
      "source": [
        "def add_strings(num1, num2):\n",
        "  result = \"\"\n",
        "  carry = 0\n",
        "  len1 = len(num1)\n",
        "  len2 = len(num2)\n",
        "  for i in range(max(len1, len2)):\n",
        "    digit1 = int(num1[len1 - i - 1]) if i < len1 else 0\n",
        "    digit2 = int(num2[len2 - i - 1]) if i < len2 else 0\n",
        "    sum = digit1 + digit2 + carry\n",
        "    carry = sum // 10\n",
        "    result = str(sum % 10) + result\n",
        "  if carry > 0:\n",
        "    result = str(carry) + result\n",
        "  return result\n",
        "\n",
        "num1 = input(\"Enter the first string: \")\n",
        "num2 = input(\"Enter the second string: \")\n",
        "if num1 == \"\" or num2 == \"\":\n",
        "  print(\"Invalid input: please enter a non-empty string.\")\n",
        "elif not (num1.isdigit() and num2.isdigit()):\n",
        "  print(\"Invalid input: please enter a numeric string.\")\n",
        "else:\n",
        "  print(add_strings(num1, num2))\n"
      ],
      "metadata": {
        "id": "UJabbFigxysy"
      },
      "execution_count": null,
      "outputs": []
    },
    {
      "cell_type": "markdown",
      "source": [
        "Answer 4:-"
      ],
      "metadata": {
        "id": "3pyOI2hpzFNp"
      }
    },
    {
      "cell_type": "code",
      "source": [
        "def reverse_words(s):\n",
        "  words = s.split()\n",
        "  reversed_words = []\n",
        "  for word in words:\n",
        "    reversed_words.append(word[::-1])\n",
        "  return \" \".join(reversed_words)\n",
        "\n",
        "s = input(\"Enter a string: \")\n",
        "if s == \"\":\n",
        "  print(\"Invalid input: please enter a non-empty string.\")\n",
        "else:\n",
        "  print(reverse_words(s))\n"
      ],
      "metadata": {
        "id": "Zf_rTns4zH4Y"
      },
      "execution_count": null,
      "outputs": []
    },
    {
      "cell_type": "markdown",
      "source": [
        "Answer 5:-"
      ],
      "metadata": {
        "id": "70g9GSde0w6n"
      }
    },
    {
      "cell_type": "code",
      "source": [
        "def reverse_str(s, k):\n",
        "  result = \"\"\n",
        "  for i in range(0, len(s), 2 * k):\n",
        "    sub = s[i:i + 2 * k]\n",
        "    rev = sub[:k][::-1]\n",
        "    result += rev + sub[k:]\n",
        "  return result\n",
        "\n",
        "s = input(\"Enter a string: \")\n",
        "k = int(input(\"Enter an integer: \"))\n",
        "if s == \"\":\n",
        "  print(\"Invalid input: please enter a non-empty string.\")\n",
        "elif k < 0:\n",
        "  print(\"Invalid input: please enter a non-negative integer.\")\n",
        "else:\n",
        "  print(reverse_str(s, k))\n"
      ],
      "metadata": {
        "id": "fE0b0OBf0zO_"
      },
      "execution_count": null,
      "outputs": []
    },
    {
      "cell_type": "markdown",
      "source": [
        "Answer 6:-"
      ],
      "metadata": {
        "id": "z_JYBQFI2Jhc"
      }
    },
    {
      "cell_type": "code",
      "source": [
        "def can_shift(s, goal):\n",
        "  if len(s) != len(goal):\n",
        "    return False\n",
        "  if s == goal:\n",
        "    return True\n",
        "  for i in range(len(s)):\n",
        "    s = s[-1] + s[:-1]\n",
        "    if s == goal:\n",
        "      return True\n",
        "  return False\n",
        "\n",
        "s = input(\"Enter s: \")\n",
        "goal = input(\"Enter goal: \")\n",
        "\n",
        "result = can_shift(s, goal)\n",
        "print(result)\n"
      ],
      "metadata": {
        "id": "-Qx8MhQ92LnM"
      },
      "execution_count": null,
      "outputs": []
    },
    {
      "cell_type": "markdown",
      "source": [
        "Answer 7:-"
      ],
      "metadata": {
        "id": "2IwzLoDi23jl"
      }
    },
    {
      "cell_type": "code",
      "source": [
        "def process(s):\n",
        "  stack = []\n",
        "  for c in s:\n",
        "    if c != '#':\n",
        "      stack.append(c)\n",
        "    elif stack:\n",
        "      stack.pop()\n",
        "  return ''.join(stack)\n",
        "\n",
        "def are_equal(s, t):\n",
        "  s_processed = process(s)\n",
        "  t_processed = process(t)\n",
        "  return s_processed == t_processed\n",
        "\n",
        "s = input(\"Enter s: \")\n",
        "t = input(\"Enter t: \")\n",
        "\n",
        "result = are_equal(s, t)\n",
        "print(result)\n"
      ],
      "metadata": {
        "id": "kiUlDhBt25b8"
      },
      "execution_count": null,
      "outputs": []
    },
    {
      "cell_type": "markdown",
      "source": [
        "Answer 8:-"
      ],
      "metadata": {
        "id": "FLWNfFuX3tPN"
      }
    },
    {
      "cell_type": "code",
      "source": [
        "def is_straight_line(coordinates):\n",
        "  if len(coordinates) < 2:\n",
        "    return False\n",
        "  if len(coordinates) == 2:\n",
        "    return True\n",
        "  x1, y1 = coordinates[0]\n",
        "  x2, y2 = coordinates[1]\n",
        "  slope = (y2 - y1) / (x2 - x1) if x2 != x1 else float('inf')\n",
        "  for i in range(2, len(coordinates)):\n",
        "    x3, y3 = coordinates[i]\n",
        "    slope2 = (y3 - y2) / (x3 - x2) if x3 != x2 else float('inf')\n",
        "    if slope2 != slope:\n",
        "      return False\n",
        "  return True\n",
        "\n",
        "coordinates = []\n",
        "n = int(input(\"Enter the number of points: \"))\n",
        "for i in range(n):\n",
        "  x, y = map(int, input(f\"Enter point {i+1} elements separated by space only: \").split())\n",
        "  coordinates.append([x, y])\n",
        "\n",
        "result = is_straight_line(coordinates)\n",
        "print(result)\n"
      ],
      "metadata": {
        "id": "UULDsZZ8-6RI"
      },
      "execution_count": null,
      "outputs": []
    }
  ]
}